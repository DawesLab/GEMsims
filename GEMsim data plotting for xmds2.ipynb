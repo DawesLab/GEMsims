{
 "cells": [
  {
   "cell_type": "code",
   "execution_count": 119,
   "metadata": {
    "collapsed": false
   },
   "outputs": [],
   "source": [
    "!./simple -N 270 -e 90 > /dev/null"
   ]
  },
  {
   "cell_type": "code",
   "execution_count": 120,
   "metadata": {
    "collapsed": false
   },
   "outputs": [
    {
     "name": "stdout",
     "output_type": "stream",
     "text": [
      "xsil2graphics2 from xmds2 version 2.2.2 \"XMDS2 is a game of two halves\" (r2966)\r\n",
      "Generating output for Python.\r\n",
      "Writing import script for 'simple.xsil' to 'simple.py'.\r\n"
     ]
    }
   ],
   "source": [
    "!xsil2graphics2 -p simple.xsil"
   ]
  },
  {
   "cell_type": "code",
   "execution_count": 121,
   "metadata": {
    "collapsed": true
   },
   "outputs": [],
   "source": [
    "%run simple.py"
   ]
  },
  {
   "cell_type": "code",
   "execution_count": 122,
   "metadata": {
    "collapsed": false
   },
   "outputs": [],
   "source": [
    "import matplotlib.pyplot as plt\n",
    "import numpy as np\n",
    "from matplotlib import cm\n",
    "from mpl_toolkits.mplot3d import Axes3D"
   ]
  },
  {
   "cell_type": "code",
   "execution_count": 123,
   "metadata": {
    "collapsed": false
   },
   "outputs": [],
   "source": [
    "probe_mag = abs(probereal_2+1j*probeimag_2)"
   ]
  },
  {
   "cell_type": "code",
   "execution_count": 124,
   "metadata": {
    "collapsed": true
   },
   "outputs": [],
   "source": [
    "alpha_mag = abs(alpreal_1+1j*alpimag_1)"
   ]
  },
  {
   "cell_type": "code",
   "execution_count": 125,
   "metadata": {
    "collapsed": true
   },
   "outputs": [],
   "source": [
    "fig = plt.figure(figsize=plt.figaspect(0.5))\n",
    "ax = fig.add_subplot(1, 2, 1, projection='3d')\n",
    "X, Y = np.meshgrid(z_2, t_2)\n",
    "surf = ax.plot_surface(X, Y, probe_mag, cmap=cm.coolwarm)\n",
    "ax.set_ylabel(\"Time (t-z/c)\")\n",
    "ax.set_xlabel(\"Position (z)\")\n",
    "\n",
    "ax = fig.add_subplot(1, 2, 2, projection='3d')\n",
    "X, Y = np.meshgrid(z_1, t_1)\n",
    "surf = ax.plot_surface(X, Y, alpha_mag, cmap=cm.coolwarm)\n",
    "ax.set_ylabel(\"Time (t-z/c)\")\n",
    "ax.set_xlabel(\"Position (z)\")\n",
    "\n",
    "plt.show()"
   ]
  },
  {
   "cell_type": "code",
   "execution_count": null,
   "metadata": {
    "collapsed": true
   },
   "outputs": [],
   "source": []
  }
 ],
 "metadata": {
  "kernelspec": {
   "display_name": "Python 2",
   "language": "python",
   "name": "python2"
  },
  "language_info": {
   "codemirror_mode": {
    "name": "ipython",
    "version": 2
   },
   "file_extension": ".py",
   "mimetype": "text/x-python",
   "name": "python",
   "nbconvert_exporter": "python",
   "pygments_lexer": "ipython2",
   "version": "2.7.10"
  }
 },
 "nbformat": 4,
 "nbformat_minor": 0
}
